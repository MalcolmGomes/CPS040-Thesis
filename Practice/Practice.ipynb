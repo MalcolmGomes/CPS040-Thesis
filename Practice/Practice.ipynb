{
 "cells": [
  {
   "cell_type": "markdown",
   "metadata": {},
   "source": [
    "### Practice"
   ]
  },
  {
   "cell_type": "markdown",
   "metadata": {},
   "source": [
    "### Basic Feedforward Neural Network"
   ]
  },
  {
   "cell_type": "code",
   "execution_count": 1,
   "metadata": {},
   "outputs": [
    {
     "name": "stdout",
     "output_type": "stream",
     "text": [
      "Downloading http://yann.lecun.com/exdb/mnist/train-images-idx3-ubyte.gz\n",
      "Downloading http://yann.lecun.com/exdb/mnist/train-labels-idx1-ubyte.gz\n",
      "Downloading http://yann.lecun.com/exdb/mnist/t10k-images-idx3-ubyte.gz\n",
      "Downloading http://yann.lecun.com/exdb/mnist/t10k-labels-idx1-ubyte.gz\n",
      "Processing...\n",
      "Done!\n",
      "Epoch [1/5], Step [100/600], Loss: 0.3677\n",
      "Epoch [1/5], Step [200/600], Loss: 0.4022\n",
      "Epoch [1/5], Step [300/600], Loss: 0.1519\n",
      "Epoch [1/5], Step [400/600], Loss: 0.1776\n",
      "Epoch [1/5], Step [500/600], Loss: 0.2595\n",
      "Epoch [1/5], Step [600/600], Loss: 0.1373\n",
      "Epoch [2/5], Step [100/600], Loss: 0.1786\n",
      "Epoch [2/5], Step [200/600], Loss: 0.1175\n",
      "Epoch [2/5], Step [300/600], Loss: 0.0637\n",
      "Epoch [2/5], Step [400/600], Loss: 0.1429\n",
      "Epoch [2/5], Step [500/600], Loss: 0.0477\n",
      "Epoch [2/5], Step [600/600], Loss: 0.0308\n",
      "Epoch [3/5], Step [100/600], Loss: 0.1091\n",
      "Epoch [3/5], Step [200/600], Loss: 0.0792\n",
      "Epoch [3/5], Step [300/600], Loss: 0.0726\n",
      "Epoch [3/5], Step [400/600], Loss: 0.0663\n",
      "Epoch [3/5], Step [500/600], Loss: 0.2364\n",
      "Epoch [3/5], Step [600/600], Loss: 0.1143\n",
      "Epoch [4/5], Step [100/600], Loss: 0.0047\n",
      "Epoch [4/5], Step [200/600], Loss: 0.0534\n",
      "Epoch [4/5], Step [300/600], Loss: 0.0441\n",
      "Epoch [4/5], Step [400/600], Loss: 0.0938\n",
      "Epoch [4/5], Step [500/600], Loss: 0.0460\n",
      "Epoch [4/5], Step [600/600], Loss: 0.0289\n",
      "Epoch [5/5], Step [100/600], Loss: 0.0777\n",
      "Epoch [5/5], Step [200/600], Loss: 0.0306\n",
      "Epoch [5/5], Step [300/600], Loss: 0.0841\n",
      "Epoch [5/5], Step [400/600], Loss: 0.0397\n",
      "Epoch [5/5], Step [500/600], Loss: 0.0516\n",
      "Epoch [5/5], Step [600/600], Loss: 0.0153\n",
      "Accuracy of the network on the 10000 test images: 98.13 %\n"
     ]
    }
   ],
   "source": [
    "import torch\n",
    "import torch.nn as nn\n",
    "import torchvision\n",
    "import torchvision.transforms as transforms\n",
    "\n",
    "\n",
    "# Device configuration\n",
    "device = torch.device('cuda' if torch.cuda.is_available() else 'cpu')\n",
    "\n",
    "# Hyper-parameters \n",
    "input_size = 784\n",
    "hidden_size = 500\n",
    "num_classes = 10\n",
    "num_epochs = 5\n",
    "batch_size = 100\n",
    "learning_rate = 0.001\n",
    "\n",
    "# MNIST dataset \n",
    "train_dataset = torchvision.datasets.MNIST(root='../../data', \n",
    "                                           train=True, \n",
    "                                           transform=transforms.ToTensor(),  \n",
    "                                           download=True)\n",
    "\n",
    "test_dataset = torchvision.datasets.MNIST(root='../../data', \n",
    "                                          train=False, \n",
    "                                          transform=transforms.ToTensor())\n",
    "\n",
    "# Data loader\n",
    "train_loader = torch.utils.data.DataLoader(dataset=train_dataset, \n",
    "                                           batch_size=batch_size, \n",
    "                                           shuffle=True)\n",
    "\n",
    "test_loader = torch.utils.data.DataLoader(dataset=test_dataset, \n",
    "                                          batch_size=batch_size, \n",
    "                                          shuffle=False)\n",
    "\n",
    "# Fully connected neural network with one hidden layer\n",
    "class NeuralNet(nn.Module):\n",
    "    def __init__(self, input_size, hidden_size, num_classes):\n",
    "        super(NeuralNet, self).__init__()\n",
    "        self.fc1 = nn.Linear(input_size, hidden_size) \n",
    "        self.relu = nn.ReLU()\n",
    "        self.fc2 = nn.Linear(hidden_size, num_classes)  \n",
    "    \n",
    "    def forward(self, x):\n",
    "        out = self.fc1(x)\n",
    "        out = self.relu(out)\n",
    "        out = self.fc2(out)\n",
    "        return out\n",
    "\n",
    "model = NeuralNet(input_size, hidden_size, num_classes).to(device)\n",
    "\n",
    "# Loss and optimizer\n",
    "criterion = nn.CrossEntropyLoss()\n",
    "optimizer = torch.optim.Adam(model.parameters(), lr=learning_rate)  \n",
    "\n",
    "# Train the model\n",
    "total_step = len(train_loader)\n",
    "for epoch in range(num_epochs):\n",
    "    for i, (images, labels) in enumerate(train_loader):  \n",
    "        # Move tensors to the configured device\n",
    "        images = images.reshape(-1, 28*28).to(device)\n",
    "        labels = labels.to(device)\n",
    "        \n",
    "        # Forward pass\n",
    "        outputs = model(images)\n",
    "        loss = criterion(outputs, labels)\n",
    "        \n",
    "        # Backward and optimize\n",
    "        optimizer.zero_grad()\n",
    "        loss.backward()\n",
    "        optimizer.step()\n",
    "        \n",
    "        if (i+1) % 100 == 0:\n",
    "            print ('Epoch [{}/{}], Step [{}/{}], Loss: {:.4f}' \n",
    "                   .format(epoch+1, num_epochs, i+1, total_step, loss.item()))\n",
    "\n",
    "# Test the model\n",
    "# In test phase, we don't need to compute gradients (for memory efficiency)\n",
    "with torch.no_grad():\n",
    "    correct = 0\n",
    "    total = 0\n",
    "    for images, labels in test_loader:\n",
    "        images = images.reshape(-1, 28*28).to(device)\n",
    "        labels = labels.to(device)\n",
    "        outputs = model(images)\n",
    "        _, predicted = torch.max(outputs.data, 1)\n",
    "        total += labels.size(0)\n",
    "        correct += (predicted == labels).sum().item()\n",
    "\n",
    "    print('Accuracy of the network on the 10000 test images: {} %'.format(100 * correct / total))\n",
    "\n",
    "# Save the model checkpoint\n",
    "torch.save(model.state_dict(), 'model.ckpt')"
   ]
  },
  {
   "cell_type": "markdown",
   "metadata": {},
   "source": [
    "### Basic Digital Image Processing SK Image"
   ]
  },
  {
   "cell_type": "code",
   "execution_count": 4,
   "metadata": {},
   "outputs": [
    {
     "name": "stderr",
     "output_type": "stream",
     "text": [
      "C:\\Users\\Malcolm\\AppData\\Local\\conda\\conda\\envs\\pytorch\\lib\\site-packages\\skimage\\filters\\_gaussian.py:108: RuntimeWarning: Images with dimensions (M, N, 3) are interpreted as 2D+RGB by default. Use `multichannel=False` to interpret as 3D image with last dimension of length 3.\n",
      "  warn(RuntimeWarning(msg))\n"
     ]
    },
    {
     "data": {
      "text/plain": [
       "<matplotlib.image.AxesImage at 0x13585b2a5c0>"
      ]
     },
     "execution_count": 4,
     "metadata": {},
     "output_type": "execute_result"
    }
   ],
   "source": [
    "from skimage import data, io, filters\n",
    "image = data.astronaut()\n",
    "noisyimage = filters.gaussian(image)\n",
    "io.imshow(image)\n",
    "io.imshow(noisyimage)"
   ]
  },
  {
   "cell_type": "markdown",
   "metadata": {},
   "source": [
    "## Torch Tutorial"
   ]
  },
  {
   "cell_type": "code",
   "execution_count": 23,
   "metadata": {},
   "outputs": [
    {
     "name": "stdout",
     "output_type": "stream",
     "text": [
      "tensor([[-1.6837e-35,  4.3300e-43, -1.6837e-35],\n",
      "        [ 4.3300e-43,  0.0000e+00,  0.0000e+00],\n",
      "        [ 0.0000e+00,  0.0000e+00, -1.6837e-35],\n",
      "        [ 4.3300e-43, -1.6837e-35,  4.3300e-43],\n",
      "        [-1.6837e-35,  4.3300e-43, -1.6837e-35]])\n",
      "tensor([[0.2098, 0.1308, 0.3857],\n",
      "        [0.9595, 0.6455, 0.1358],\n",
      "        [0.0117, 0.8315, 0.7430],\n",
      "        [0.7360, 0.8733, 0.3937],\n",
      "        [0.8377, 0.0287, 0.6710]])\n",
      "tensor([[0, 0, 0],\n",
      "        [0, 0, 0],\n",
      "        [0, 0, 0],\n",
      "        [0, 0, 0],\n",
      "        [0, 0, 0]])\n",
      "tensor([5.5000, 3.0000])\n",
      "tensor([[1., 1., 1.],\n",
      "        [1., 1., 1.],\n",
      "        [1., 1., 1.],\n",
      "        [1., 1., 1.],\n",
      "        [1., 1., 1.]], dtype=torch.float64)\n",
      "tensor([[ 0.4509,  2.0286, -2.1093],\n",
      "        [ 0.4697, -0.9924, -0.8261],\n",
      "        [ 1.9916,  1.3931,  0.4162],\n",
      "        [ 0.1486, -0.0721,  1.4633],\n",
      "        [-1.0232,  0.3651,  1.3171]])\n",
      "torch.Size([5, 3])\n",
      "tensor([[ 1.0100,  2.9546, -1.3902],\n",
      "        [ 1.0165, -0.8333,  0.0576],\n",
      "        [ 2.3434,  1.4956,  1.0507],\n",
      "        [ 0.6694,  0.1570,  1.8207],\n",
      "        [-0.8129,  0.3964,  1.4548]])\n",
      "tensor([[ 1.0100,  2.9546, -1.3902],\n",
      "        [ 1.0165, -0.8333,  0.0576],\n",
      "        [ 2.3434,  1.4956,  1.0507],\n",
      "        [ 0.6694,  0.1570,  1.8207],\n",
      "        [-0.8129,  0.3964,  1.4548]])\n",
      "tensor([[ 1.0100,  2.9546, -1.3902],\n",
      "        [ 1.0165, -0.8333,  0.0576],\n",
      "        [ 2.3434,  1.4956,  1.0507],\n",
      "        [ 0.6694,  0.1570,  1.8207],\n",
      "        [-0.8129,  0.3964,  1.4548]])\n",
      "tensor([[ 1.0100,  2.9546, -1.3902],\n",
      "        [ 1.0165, -0.8333,  0.0576],\n",
      "        [ 2.3434,  1.4956,  1.0507],\n",
      "        [ 0.6694,  0.1570,  1.8207],\n",
      "        [-0.8129,  0.3964,  1.4548]])\n",
      "tensor([[ 0.4509,  2.0286, -2.1093],\n",
      "        [ 0.4697, -0.9924, -0.8261],\n",
      "        [ 1.9916,  1.3931,  0.4162],\n",
      "        [ 0.1486, -0.0721,  1.4633],\n",
      "        [-1.0232,  0.3651,  1.3171]])\n",
      "tensor([ 2.0286, -0.9924,  1.3931, -0.0721,  0.3651])\n"
     ]
    }
   ],
   "source": [
    "from __future__ import print_function\n",
    "import torch\n",
    "\n",
    "x = torch.empty(5, 3)\n",
    "print(x)\n",
    "\n",
    "y = torch.rand(5, 3)\n",
    "print(y)\n",
    "\n",
    "z = torch.zeros(5, 3, dtype=torch.long)\n",
    "print(z)\n",
    "\n",
    "a = torch.tensor([5.5, 3])\n",
    "print(a)\n",
    "\n",
    "x = x.new_ones(5, 3, dtype=torch.double)      # new_* methods take in sizes\n",
    "print(x)\n",
    "\n",
    "x = torch.randn_like(x, dtype=torch.float)    # override dtype!\n",
    "print(x)                                      # result has the same size\n",
    "\n",
    "print(x.size())\n",
    "\n",
    "y = torch.rand(5, 3)\n",
    "print(x + y)\n",
    "\n",
    "print(torch.add(x, y))\n",
    "\n",
    "result = torch.empty(5, 3)\n",
    "torch.add(x, y, out=result)\n",
    "print(result)\n",
    "\n",
    "# adds x to y\n",
    "y.add_(x)\n",
    "print(y)\n",
    "\n",
    "print(x)\n",
    "print(x[:, 1])"
   ]
  },
  {
   "cell_type": "code",
   "execution_count": 31,
   "metadata": {},
   "outputs": [
    {
     "name": "stdout",
     "output_type": "stream",
     "text": [
      "torch.Size([4, 4]) torch.Size([16]) torch.Size([2, 8])\n",
      "tensor([1.5125])\n",
      "1.512548565864563\n",
      "tensor([1., 1., 1., 1., 1.])\n",
      "[1. 1. 1. 1. 1.]\n",
      "tensor([2., 2., 2., 2., 2.])\n",
      "[2. 2. 2. 2. 2.]\n"
     ]
    }
   ],
   "source": [
    "x = torch.randn(4, 4)\n",
    "y = x.view(16)\n",
    "z = x.view(-1, 8)  # the size -1 is inferred from other dimensions\n",
    "print(x.size(), y.size(), z.size())\n",
    "\n",
    "x = torch.randn(1)\n",
    "print(x)\n",
    "print(x.item())\n",
    "\n",
    "a = torch.ones(5)\n",
    "print(a)\n",
    "b = a.numpy()\n",
    "print(b)\n",
    "a.add_(1)\n",
    "print(a)\n",
    "print(b)"
   ]
  },
  {
   "cell_type": "code",
   "execution_count": 32,
   "metadata": {},
   "outputs": [
    {
     "name": "stdout",
     "output_type": "stream",
     "text": [
      "[2. 2. 2. 2. 2.]\n",
      "tensor([2., 2., 2., 2., 2.], dtype=torch.float64)\n"
     ]
    }
   ],
   "source": [
    "import numpy as np\n",
    "a = np.ones(5)\n",
    "b = torch.from_numpy(a)\n",
    "np.add(a, 1, out=a)\n",
    "print(a)\n",
    "print(b)"
   ]
  },
  {
   "cell_type": "code",
   "execution_count": 33,
   "metadata": {},
   "outputs": [
    {
     "name": "stdout",
     "output_type": "stream",
     "text": [
      "tensor([2.5125], device='cuda:0')\n",
      "tensor([2.5125], dtype=torch.float64)\n"
     ]
    }
   ],
   "source": [
    "# let us run this cell only if CUDA is available\n",
    "# We will use ``torch.device`` objects to move tensors in and out of GPU\n",
    "if torch.cuda.is_available():\n",
    "    device = torch.device(\"cuda\")          # a CUDA device object\n",
    "    y = torch.ones_like(x, device=device)  # directly create a tensor on GPU\n",
    "    x = x.to(device)                       # or just use strings ``.to(\"cuda\")``\n",
    "    z = x + y\n",
    "    print(z)\n",
    "    print(z.to(\"cpu\", torch.double))       # ``.to`` can also change dtype together!"
   ]
  },
  {
   "cell_type": "code",
   "execution_count": null,
   "metadata": {},
   "outputs": [],
   "source": []
  }
 ],
 "metadata": {
  "kernelspec": {
   "display_name": "Python 3",
   "language": "python",
   "name": "python3"
  },
  "language_info": {
   "codemirror_mode": {
    "name": "ipython",
    "version": 3
   },
   "file_extension": ".py",
   "mimetype": "text/x-python",
   "name": "python",
   "nbconvert_exporter": "python",
   "pygments_lexer": "ipython3",
   "version": "3.5.6"
  }
 },
 "nbformat": 4,
 "nbformat_minor": 2
}
